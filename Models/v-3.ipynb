{
 "cells": [
  {
   "cell_type": "code",
   "execution_count": 1,
   "id": "317da290",
   "metadata": {},
   "outputs": [
    {
     "name": "stdout",
     "output_type": "stream",
     "text": [
      "WARNING:tensorflow:From c:\\Users\\tharu\\Lib\\site-packages\\keras\\src\\losses.py:2976: The name tf.losses.sparse_softmax_cross_entropy is deprecated. Please use tf.compat.v1.losses.sparse_softmax_cross_entropy instead.\n",
      "\n"
     ]
    }
   ],
   "source": [
    "import tensorflow as tf\n",
    "from tensorflow.keras.utils import to_categorical #type: ignore\n",
    "from tensorflow.keras.preprocessing.sequence import pad_sequences #type: ignore\n",
    "from tensorflow.keras.layers import Conv1D, MaxPooling1D, Flatten, Dense, Dropout, BatchNormalization, Input, Concatenate, Masking, ConvLSTM1D, Lambda, AveragePooling1D #type: ignore\n",
    "from tensorflow.keras.layers import LSTM, Bidirectional, Attention, GlobalAveragePooling1D, MaxPool1D #type: ignore\n",
    "from tensorflow.keras.optimizers import AdamW #type: ignore\n",
    "from tensorflow.keras import Sequential, Model #type: ignore"
   ]
  },
  {
   "cell_type": "code",
   "execution_count": null,
   "id": "fc4c7eae",
   "metadata": {},
   "outputs": [],
   "source": [
    "input = Input(shape=(103, 334))\n",
    "\n",
    "x = Conv1D(filters=128, kernel_size=3, padding=\"same\", activation=\"relu\")(input)\n",
    "x = AveragePooling1D(pool_size=2, strides=1, padding=\"same\")(x)\n",
    "\n",
    "x = LSTM(units=64, return_sequences=True, dropout=0.3)(x)\n",
    "\n",
    "x = LSTM(units=128, return_sequences=True, dropout=0.4)(x)\n",
    "\n",
    "x = Flatten()(x)\n",
    "\n",
    "x = Dense(units=256, activation=\"relu\")(x)\n",
    "\n",
    "output = Dense(units=18, activation=\"softmax\")(x)\n",
    "\n",
    "model = Model(inputs = input, outputs = output)"
   ]
  },
  {
   "cell_type": "code",
   "execution_count": 5,
   "id": "dd315862",
   "metadata": {},
   "outputs": [
    {
     "name": "stdout",
     "output_type": "stream",
     "text": [
      "WARNING:tensorflow:From c:\\Users\\tharu\\Lib\\site-packages\\keras\\src\\optimizers\\__init__.py:309: The name tf.train.Optimizer is deprecated. Please use tf.compat.v1.train.Optimizer instead.\n",
      "\n",
      "Model: \"model\"\n",
      "_________________________________________________________________\n",
      " Layer (type)                Output Shape              Param #   \n",
      "=================================================================\n",
      " input_3 (InputLayer)        [(None, 103, 334)]        0         \n",
      "                                                                 \n",
      " conv1d_2 (Conv1D)           (None, 103, 128)          128384    \n",
      "                                                                 \n",
      " average_pooling1d_2 (Avera  (None, 103, 128)          0         \n",
      " gePooling1D)                                                    \n",
      "                                                                 \n",
      " lstm_3 (LSTM)               (None, 103, 64)           49408     \n",
      "                                                                 \n",
      " lstm_4 (LSTM)               (None, 103, 128)          98816     \n",
      "                                                                 \n",
      " dense (Dense)               (None, 103, 256)          33024     \n",
      "                                                                 \n",
      " dense_1 (Dense)             (None, 103, 18)           4626      \n",
      "                                                                 \n",
      "=================================================================\n",
      "Total params: 314258 (1.20 MB)\n",
      "Trainable params: 314258 (1.20 MB)\n",
      "Non-trainable params: 0 (0.00 Byte)\n",
      "_________________________________________________________________\n",
      "Model: \"model\"\n",
      "_________________________________________________________________\n",
      " Layer (type)                Output Shape              Param #   \n",
      "=================================================================\n",
      " input_3 (InputLayer)        [(None, 103, 334)]        0         \n",
      "                                                                 \n",
      " conv1d_2 (Conv1D)           (None, 103, 128)          128384    \n",
      "                                                                 \n",
      " average_pooling1d_2 (Avera  (None, 103, 128)          0         \n",
      " gePooling1D)                                                    \n",
      "                                                                 \n",
      " lstm_3 (LSTM)               (None, 103, 64)           49408     \n",
      "                                                                 \n",
      " lstm_4 (LSTM)               (None, 103, 128)          98816     \n",
      "                                                                 \n",
      " dense (Dense)               (None, 103, 256)          33024     \n",
      "                                                                 \n",
      " dense_1 (Dense)             (None, 103, 18)           4626      \n",
      "                                                                 \n",
      "=================================================================\n",
      "Total params: 314258 (1.20 MB)\n",
      "Trainable params: 314258 (1.20 MB)\n",
      "Non-trainable params: 0 (0.00 Byte)\n",
      "_________________________________________________________________\n"
     ]
    }
   ],
   "source": [
    "model.compile(optimizer=\"rmsprop\", loss=\"categorical_crossentropy\", metrics=[\"accuracy\"])\n",
    "model.summary()"
   ]
  },
  {
   "cell_type": "code",
   "execution_count": null,
   "id": "0bbf6224",
   "metadata": {},
   "outputs": [],
   "source": []
  }
 ],
 "metadata": {
  "kernelspec": {
   "display_name": "Python 3",
   "language": "python",
   "name": "python3"
  },
  "language_info": {
   "codemirror_mode": {
    "name": "ipython",
    "version": 3
   },
   "file_extension": ".py",
   "mimetype": "text/x-python",
   "name": "python",
   "nbconvert_exporter": "python",
   "pygments_lexer": "ipython3",
   "version": "3.11.4"
  }
 },
 "nbformat": 4,
 "nbformat_minor": 5
}
