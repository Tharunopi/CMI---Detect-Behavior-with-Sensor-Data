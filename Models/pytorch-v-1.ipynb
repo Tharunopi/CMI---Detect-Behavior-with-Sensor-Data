{
 "cells": [
  {
   "cell_type": "code",
   "execution_count": null,
   "id": "520c4c7a",
   "metadata": {},
   "outputs": [],
   "source": [
    "from torch.nn import MaxPool1d, Conv1d, BatchNorm1d, LSTM, Linear, ReLU\n",
    "import torch"
   ]
  },
  {
   "cell_type": "code",
   "execution_count": null,
   "id": "c3713bfa",
   "metadata": {},
   "outputs": [],
   "source": [
    "class Model(torch.nn.Module):\n",
    "    def __init__(self):\n",
    "        super().__init__()\n",
    "        self.cn = Conv1d(in_channels=332, out_channels=64, kernel_size=3, padding=1)\n",
    "        self.mp = MaxPool1d(2, stride=1, padding=1)\n",
    "        self.bn = BatchNorm1d(64)\n",
    "        self.lstm = LSTM(input_size=64, hidden_size=128)\n",
    "        self.ln = Linear(in_features=128, out_features=254)\n",
    "        self.output = Linear(in_features=254, out_features=18)\n",
    "        self.relu = ReLU()\n",
    "\n",
    "    def forward(self, x):\n",
    "        x = x.transpose(1, 2)\n",
    "        x = self.relu(self.cn(x))\n",
    "        x = self.mp(x)\n",
    "        x = self.bn(x)\n",
    "\n",
    "        x = self.relu(self.cn(x))\n",
    "        x = self.mp(x)\n",
    "        x = self.bn(x)\n",
    "\n",
    "        x, (hidden, cell) = self.lstm(x)\n",
    "        x = x[:, -1, :]\n",
    "\n",
    "        x = self.ln(x)\n",
    "        x = self.output(x)\n",
    "        \n",
    "        return x"
   ]
  },
  {
   "cell_type": "code",
   "execution_count": null,
   "id": "7df57351",
   "metadata": {},
   "outputs": [],
   "source": []
  }
 ],
 "metadata": {
  "kernelspec": {
   "display_name": "Python 3",
   "language": "python",
   "name": "python3"
  },
  "language_info": {
   "codemirror_mode": {
    "name": "ipython",
    "version": 3
   },
   "file_extension": ".py",
   "mimetype": "text/x-python",
   "name": "python",
   "nbconvert_exporter": "python",
   "pygments_lexer": "ipython3",
   "version": "3.11.4"
  }
 },
 "nbformat": 4,
 "nbformat_minor": 5
}
