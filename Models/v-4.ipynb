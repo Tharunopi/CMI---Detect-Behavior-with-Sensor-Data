{
 "cells": [
  {
   "cell_type": "code",
   "execution_count": 2,
   "id": "317da290",
   "metadata": {},
   "outputs": [
    {
     "name": "stdout",
     "output_type": "stream",
     "text": [
      "WARNING:tensorflow:From c:\\Users\\tharu\\Lib\\site-packages\\keras\\src\\losses.py:2976: The name tf.losses.sparse_softmax_cross_entropy is deprecated. Please use tf.compat.v1.losses.sparse_softmax_cross_entropy instead.\n",
      "\n"
     ]
    }
   ],
   "source": [
    "import tensorflow as tf\n",
    "from tensorflow.keras.utils import to_categorical #type: ignore\n",
    "from tensorflow.keras.preprocessing.sequence import pad_sequences #type: ignore\n",
    "from tensorflow.keras.layers import Conv1D, MaxPooling1D, Flatten, Dense, Dropout, BatchNormalization, Input, Concatenate, Masking, ConvLSTM1D, Lambda, AveragePooling1D, TimeDistributed #type: ignore\n",
    "from tensorflow.keras.layers import LSTM, Bidirectional, Attention, GlobalAveragePooling1D, MaxPool1D #type: ignore\n",
    "from tensorflow.keras.optimizers import AdamW #type: ignore\n",
    "from tensorflow.keras import Sequential, Model #type: ignore"
   ]
  },
  {
   "cell_type": "code",
   "execution_count": 4,
   "id": "fc4c7eae",
   "metadata": {},
   "outputs": [],
   "source": [
    "input = Input(shape=(103, 334))\n",
    "\n",
    "x_64 = Conv1D(filters=334, kernel_size=3, padding=\"same\", activation=\"relu\")(input)\n",
    "x_128 = Conv1D(filters=334, kernel_size=3, padding=\"same\", activation=\"relu\")(input)\n",
    "\n",
    "x = Attention(use_scale=True)([input, x_64, x_128])\n",
    "\n",
    "x = Concatenate()([x, input])\n",
    "\n",
    "x = Bidirectional(LSTM(units=128))(x)\n",
    "\n",
    "x = Dense(units=128, activation=\"relu\")(x)\n",
    "\n",
    "x = Flatten()(x)\n",
    "\n",
    "output = Dense(units=18, activation=\"softmax\")(x)\n",
    "\n",
    "model = Model(inputs = input, outputs = output)"
   ]
  },
  {
   "cell_type": "code",
   "execution_count": 5,
   "id": "dd315862",
   "metadata": {},
   "outputs": [
    {
     "name": "stdout",
     "output_type": "stream",
     "text": [
      "WARNING:tensorflow:From c:\\Users\\tharu\\Lib\\site-packages\\keras\\src\\optimizers\\__init__.py:309: The name tf.train.Optimizer is deprecated. Please use tf.compat.v1.train.Optimizer instead.\n",
      "\n",
      "Model: \"model\"\n",
      "__________________________________________________________________________________________________\n",
      " Layer (type)                Output Shape                 Param #   Connected to                  \n",
      "==================================================================================================\n",
      " input_2 (InputLayer)        [(None, 103, 334)]           0         []                            \n",
      "                                                                                                  \n",
      " conv1d_2 (Conv1D)           (None, 103, 334)             335002    ['input_2[0][0]']             \n",
      "Model: \"model\"\n",
      "__________________________________________________________________________________________________\n",
      " Layer (type)                Output Shape                 Param #   Connected to                  \n",
      "==================================================================================================\n",
      " input_2 (InputLayer)        [(None, 103, 334)]           0         []                            \n",
      "                                                                                                  \n",
      " conv1d_2 (Conv1D)           (None, 103, 334)             335002    ['input_2[0][0]']             \n",
      "                                                                                                  \n",
      " conv1d_3 (Conv1D)           (None, 103, 334)             335002    ['input_2[0][0]']             \n",
      "                                                                                                  \n",
      " attention_1 (Attention)     (None, 103, 334)             1         ['input_2[0][0]',             \n",
      "                                                                     'conv1d_2[0][0]',            \n",
      "                                                                     'conv1d_3[0][0]']            \n",
      "                                                                                                  \n",
      " concatenate_1 (Concatenate  (None, 103, 668)             0         ['attention_1[0][0]',         \n",
      " )                                                                   'input_2[0][0]']             \n",
      "                                                                                                  \n",
      " bidirectional (Bidirection  (None, 256)                  816128    ['concatenate_1[0][0]']       \n",
      " al)                                                                                              \n",
      "                                                                                                  \n",
      " dense (Dense)               (None, 128)                  32896     ['bidirectional[0][0]']       \n",
      "                                                                                                  \n",
      " flatten (Flatten)           (None, 128)                  0         ['dense[0][0]']               \n",
      "                                                                                                  \n",
      " dense_1 (Dense)             (None, 18)                   2322      ['flatten[0][0]']             \n",
      "                                                                                                  \n",
      "==================================================================================================\n",
      "Total params: 1521351 (5.80 MB)\n",
      "Trainable params: 1521351 (5.80 MB)\n",
      "Non-trainable params: 0 (0.00 Byte)\n",
      "__________________________________________________________________________________________________\n"
     ]
    }
   ],
   "source": [
    "model.compile(optimizer=\"rmsprop\", loss=\"categorical_crossentropy\", metrics=[\"accuracy\"])\n",
    "model.summary()"
   ]
  },
  {
   "cell_type": "code",
   "execution_count": null,
   "id": "0bbf6224",
   "metadata": {},
   "outputs": [],
   "source": []
  }
 ],
 "metadata": {
  "kernelspec": {
   "display_name": "Python 3",
   "language": "python",
   "name": "python3"
  },
  "language_info": {
   "codemirror_mode": {
    "name": "ipython",
    "version": 3
   },
   "file_extension": ".py",
   "mimetype": "text/x-python",
   "name": "python",
   "nbconvert_exporter": "python",
   "pygments_lexer": "ipython3",
   "version": "3.11.4"
  }
 },
 "nbformat": 4,
 "nbformat_minor": 5
}
