{
 "cells": [
  {
   "cell_type": "code",
   "execution_count": 1,
   "id": "317da290",
   "metadata": {},
   "outputs": [
    {
     "name": "stdout",
     "output_type": "stream",
     "text": [
      "WARNING:tensorflow:From c:\\Users\\tharu\\Lib\\site-packages\\keras\\src\\losses.py:2976: The name tf.losses.sparse_softmax_cross_entropy is deprecated. Please use tf.compat.v1.losses.sparse_softmax_cross_entropy instead.\n",
      "\n"
     ]
    }
   ],
   "source": [
    "import tensorflow as tf\n",
    "from tensorflow.keras.utils import to_categorical #type: ignore\n",
    "from tensorflow.keras.preprocessing.sequence import pad_sequences #type: ignore\n",
    "from tensorflow.keras.layers import Conv1D, MaxPooling1D, Flatten, Dense, Dropout, BatchNormalization, Input, Concatenate, Masking, ConvLSTM1D, Lambda #type: ignore\n",
    "from tensorflow.keras.layers import LSTM, Bidirectional, Attention, GlobalAveragePooling1D, MaxPool1D #type: ignore\n",
    "from tensorflow.keras.optimizers import AdamW #type: ignore\n",
    "from tensorflow.keras import Sequential, Model #type: ignore"
   ]
  },
  {
   "cell_type": "code",
   "execution_count": 3,
   "id": "fc4c7eae",
   "metadata": {},
   "outputs": [
    {
     "name": "stdout",
     "output_type": "stream",
     "text": [
      "WARNING:tensorflow:From c:\\Users\\tharu\\Lib\\site-packages\\keras\\src\\backend.py:6642: The name tf.nn.max_pool is deprecated. Please use tf.nn.max_pool2d instead.\n",
      "\n"
     ]
    }
   ],
   "source": [
    "input = Input(shape=(103, 334))\n",
    "\n",
    "x = Conv1D(filters=128, kernel_size=3, padding=\"same\", activation=\"relu\")(input)\n",
    "x = MaxPool1D(pool_size=2, padding=\"same\")(x)\n",
    "x = BatchNormalization()(x)\n",
    "\n",
    "x = Conv1D(filters=256, kernel_size=3, padding=\"same\", activation=\"relu\")(x)\n",
    "x = MaxPool1D(pool_size=2, padding=\"same\")(x)\n",
    "x = BatchNormalization()(x)\n",
    "\n",
    "x = Conv1D(filters=256, kernel_size=3, padding=\"same\", activation=\"relu\")(x)\n",
    "x = MaxPool1D(pool_size=2, padding=\"same\")(x)\n",
    "x = BatchNormalization()(x)\n",
    "\n",
    "x = LSTM(units=128, return_sequences=True)(x)\n",
    "\n",
    "x = LSTM(units=256, return_sequences=True)(x)\n",
    "\n",
    "x = Dense(units=256, activation=\"relu\")(x)\n",
    "\n",
    "output = Dense(units=18, activation=\"softmax\")(x)\n",
    "\n",
    "model = Model(inputs = input, outputs = output)"
   ]
  },
  {
   "cell_type": "code",
   "execution_count": 4,
   "id": "dd315862",
   "metadata": {},
   "outputs": [
    {
     "name": "stdout",
     "output_type": "stream",
     "text": [
      "WARNING:tensorflow:From c:\\Users\\tharu\\Lib\\site-packages\\keras\\src\\optimizers\\__init__.py:309: The name tf.train.Optimizer is deprecated. Please use tf.compat.v1.train.Optimizer instead.\n",
      "\n",
      "Model: \"model\"\n",
      "_________________________________________________________________\n",
      " Layer (type)                Output Shape              Param #   \n",
      "=================================================================\n",
      " input_2 (InputLayer)        [(None, 103, 334)]        0         \n",
      "                                                                 \n",
      " conv1d (Conv1D)             (None, 103, 128)          128384    \n",
      "                                                                 \n",
      " max_pooling1d (MaxPooling1  (None, 52, 128)           0         \n",
      " D)                                                              \n",
      "                                                                 \n",
      " batch_normalization (Batch  (None, 52, 128)           512       \n",
      " Normalization)                                                  \n",
      "                                                                 \n",
      " conv1d_1 (Conv1D)           (None, 52, 256)           98560     \n",
      "                                                                 \n",
      " max_pooling1d_1 (MaxPoolin  (None, 26, 256)           0         \n",
      " g1D)                                                            \n",
      "                                                                 \n",
      " batch_normalization_1 (Bat  (None, 26, 256)           1024      \n",
      " chNormalization)                                                \n",
      "                                                                 \n",
      " conv1d_2 (Conv1D)           (None, 26, 256)           196864    \n",
      "                                                                 \n",
      " max_pooling1d_2 (MaxPoolin  (None, 13, 256)           0         \n",
      " g1D)                                                            \n",
      "                                                                 \n",
      " batch_normalization_2 (Bat  (None, 13, 256)           1024      \n",
      " chNormalization)                                                \n",
      "                                                                 \n",
      " lstm (LSTM)                 (None, 13, 128)           197120    \n",
      "                                                                 \n",
      " lstm_1 (LSTM)               (None, 13, 256)           394240    \n",
      "                                                                 \n",
      " dense (Dense)               (None, 13, 256)           65792     \n",
      "                                                                 \n",
      " dense_1 (Dense)             (None, 13, 18)            4626      \n",
      "                                                                 \n",
      "=================================================================\n",
      "Total params: 1088146 (4.15 MB)\n",
      "Trainable params: 1086866 (4.15 MB)\n",
      "Non-trainable params: 1280 (5.00 KB)\n",
      "_________________________________________________________________\n"
     ]
    }
   ],
   "source": [
    "model.compile(optimizer=\"rmsprop\", loss=\"categorical_crossentropy\", metrics=[\"accuracy\"])\n",
    "model.summary()"
   ]
  },
  {
   "cell_type": "code",
   "execution_count": null,
   "id": "0bbf6224",
   "metadata": {},
   "outputs": [],
   "source": []
  }
 ],
 "metadata": {
  "kernelspec": {
   "display_name": "Python 3",
   "language": "python",
   "name": "python3"
  },
  "language_info": {
   "codemirror_mode": {
    "name": "ipython",
    "version": 3
   },
   "file_extension": ".py",
   "mimetype": "text/x-python",
   "name": "python",
   "nbconvert_exporter": "python",
   "pygments_lexer": "ipython3",
   "version": "3.11.4"
  }
 },
 "nbformat": 4,
 "nbformat_minor": 5
}
